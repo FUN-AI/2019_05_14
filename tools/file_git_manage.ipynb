{
 "cells": [
  {
   "cell_type": "code",
   "execution_count": null,
   "metadata": {
    "collapsed": true
   },
   "outputs": [],
   "source": [
    "import subprocess\n",
    "def git_clone(name, path='./'):\n",
    "    if subprocess.call('rm -rf '+path+name, shell=True) != 0:\n",
    "        return \"失敗\"\n",
    "    return \"完了\""
   ]
  },
  {
   "cell_type": "code",
   "execution_count": null,
   "metadata": {
    "collapsed": true
   },
   "outputs": [],
   "source": [
    "def git_clone(url, path='./'):\n",
    "    order = [\"cd \"+path, \"git clone \"+url]\n",
    "    for i in order:\n",
    "        if subprocess.call(i, shell=True) != 0: return \"失敗\"\n",
    "    return \"完了\""
   ]
  },
  {
   "cell_type": "code",
   "execution_count": null,
   "metadata": {
    "collapsed": true
   },
   "outputs": [],
   "source": [
    "#例 print(git_clone(\"https://github.com/EbichanOO/geTaskNet\"))"
   ]
  }
 ],
 "metadata": {
  "kernelspec": {
   "display_name": "Python 3",
   "language": "python",
   "name": "python3"
  },
  "language_info": {
   "codemirror_mode": {
    "name": "ipython",
    "version": 3
   },
   "file_extension": ".py",
   "mimetype": "text/x-python",
   "name": "python",
   "nbconvert_exporter": "python",
   "pygments_lexer": "ipython3",
   "version": "3.6.0"
  }
 },
 "nbformat": 4,
 "nbformat_minor": 2
}
